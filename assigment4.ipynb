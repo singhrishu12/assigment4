{
 "cells": [
  {
   "cell_type": "code",
   "execution_count": 2,
   "id": "dd031036-fe10-442c-ae0b-fac82567d212",
   "metadata": {},
   "outputs": [
    {
     "name": "stdout",
     "output_type": "stream",
     "text": [
      "1\n",
      "2\n",
      "3\n",
      "4\n",
      "5\n"
     ]
    }
   ],
   "source": [
    "counter=1\n",
    "while counter <=5:\n",
    "    print(counter)\n",
    "    counter =counter+1"
   ]
  },
  {
   "cell_type": "code",
   "execution_count": 2,
   "id": "1ce02533-5722-4e07-b305-a9af11d43b64",
   "metadata": {},
   "outputs": [
    {
     "name": "stdout",
     "output_type": "stream",
     "text": [
      "The sum of numbers from 1 to 10 is: 55\n"
     ]
    }
   ],
   "source": [
    "counter = 1\n",
    "sum_result = 0\n",
    "\n",
    "while counter <= 10:\n",
    "    sum_result = sum_result + counter\n",
    "    counter = counter + 1\n",
    "    \n",
    "print(\"The sum of numbers from 1 to 10 is:\", sum_result)\n",
    "\n",
    "\n"
   ]
  },
  {
   "cell_type": "code",
   "execution_count": null,
   "id": "b620a38e-fb4f-4dab-91bf-778a9a4c4fd1",
   "metadata": {},
   "outputs": [],
   "source": [
    "number=int(input('enter your number'))\n",
    "factorial=1\n",
    "while number>0:\n",
    "    factorial=factorial*number\n",
    "    number=number-1\n",
    "factorial"
   ]
  },
  {
   "cell_type": "code",
   "execution_count": null,
   "id": "d0eebc5d-2012-44f7-a4e6-fb3d3589c28e",
   "metadata": {},
   "outputs": [],
   "source": []
  },
  {
   "cell_type": "code",
   "execution_count": null,
   "id": "455dc454-e296-4ccf-aa47-1f4811a8055c",
   "metadata": {},
   "outputs": [],
   "source": []
  }
 ],
 "metadata": {
  "kernelspec": {
   "display_name": "Python 3 (ipykernel)",
   "language": "python",
   "name": "python3"
  },
  "language_info": {
   "codemirror_mode": {
    "name": "ipython",
    "version": 3
   },
   "file_extension": ".py",
   "mimetype": "text/x-python",
   "name": "python",
   "nbconvert_exporter": "python",
   "pygments_lexer": "ipython3",
   "version": "3.10.8"
  }
 },
 "nbformat": 4,
 "nbformat_minor": 5
}
